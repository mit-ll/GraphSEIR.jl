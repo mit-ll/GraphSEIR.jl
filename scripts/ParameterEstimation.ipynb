{
  "cells": [
    {
      "cell_type": "markdown",
      "metadata": {},
      "source": [
        "© 2022 Massachusetts Institute of Technology.  See LICENSE file for details."
      ]
    },
    {
      "cell_type": "code",
      "execution_count": null,
      "metadata": {},
      "outputs": [],
      "source": [
        "using Pkg\n",
        "Pkg.activate(\"..\")\n",
        "using GraphSEIR\n",
        "using Graphs\n",
        "using MetaGraphs\n",
        "using Statistics"
      ]
    },
    {
      "cell_type": "code",
      "execution_count": null,
      "metadata": {},
      "outputs": [],
      "source": [
        "node_file = \"../simulation_example/node_attributes.json\"\n",
        "edge_file = \"../simulation_example/edge_attributes.json\"\n",
        "scale = Float64(1/(60*7))\n",
        "g = load_graph(node_file, edge_file; scale = scale)"
      ]
    },
    {
      "cell_type": "code",
      "execution_count": null,
      "metadata": {},
      "outputs": [],
      "source": [
        "γ  = 6.7e-2\n",
        "λ  = 1.1e-1\n",
        "R0 = 3.0 # Reproduction rate, avg number of new infections caused by a single exposed individual if all neighbors are susceptible.\n",
        "α = 0.25 # Top proportion of nodes by degree to average over. Higher α will make betas lower.\n",
        "filter_household = true # True means we do not use household edges to calculate the degree of nodes. This is to prevent the nodes in large households from biasing the parameters.\n",
        "p = 1/5 # ratio of R0 for beta_E and R0 for beta_I. Enforces that beta_I is much smaller than beta_E. Typically set p > 1/R0.\n",
        "range = [-3,0] # range of solver in log10. This range corresponds to 1e-3 < beta < 1.0"
      ]
    },
    {
      "cell_type": "code",
      "execution_count": null,
      "metadata": {},
      "outputs": [],
      "source": [
        "@time βE, βI = get_betas(g, R0; α = α, γ = γ, λ = λ, p = p, filter_household = false, range = range)"
      ]
    },
    {
      "cell_type": "code",
      "execution_count": null,
      "metadata": {},
      "outputs": [],
      "source": [
        "@time βE, βI = get_betas(g, R0; α = α, γ = γ, λ=λ, p = p, filter_household = true, range = range)"
      ]
    },
    {
      "cell_type": "code",
      "execution_count": null,
      "metadata": {},
      "outputs": [],
      "source": []
    }
  ],
  "metadata": {
    "kernelspec": {
      "display_name": "Julia 1.7.3",
      "language": "julia",
      "name": "julia-1.7"
    },
    "language_info": {
      "file_extension": ".jl",
      "mimetype": "application/julia",
      "name": "julia",
      "version": "1.5.2"
    },
    "latex_envs": {
      "LaTeX_envs_menu_present": true,
      "autoclose": false,
      "autocomplete": true,
      "bibliofile": "biblio.bib",
      "cite_by": "apalike",
      "current_citInitial": 1,
      "eqLabelWithNumbers": true,
      "eqNumInitial": 1,
      "hotkeys": {
        "equation": "Ctrl-E",
        "itemize": "Ctrl-I"
      },
      "labels_anchors": false,
      "latex_user_defs": false,
      "report_style_numbering": false,
      "user_envs_cfg": false
    },
    "toc": {
      "base_numbering": 1,
      "nav_menu": {},
      "number_sections": true,
      "sideBar": true,
      "skip_h1_title": false,
      "title_cell": "Table of Contents",
      "title_sidebar": "Contents",
      "toc_cell": false,
      "toc_position": {},
      "toc_section_display": true,
      "toc_window_display": false
    },
    "varInspector": {
      "cols": {
        "lenName": 16,
        "lenType": 16,
        "lenVar": 40
      },
      "kernels_config": {
        "python": {
          "delete_cmd_postfix": "",
          "delete_cmd_prefix": "del ",
          "library": "var_list.py",
          "varRefreshCmd": "print(var_dic_list())"
        },
        "r": {
          "delete_cmd_postfix": ") ",
          "delete_cmd_prefix": "rm(",
          "library": "var_list.r",
          "varRefreshCmd": "cat(var_dic_list()) "
        }
      },
      "types_to_exclude": [
        "module",
        "function",
        "builtin_function_or_method",
        "instance",
        "_Feature"
      ],
      "window_display": false
    }
  },
  "nbformat": 4,
  "nbformat_minor": 4
}
