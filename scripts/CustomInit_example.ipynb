{
  "cells": [
    {
      "cell_type": "markdown",
      "metadata": {},
      "source": [
        "© 2022 Massachusetts Institute of Technology.  See LICENSE file for details."
      ]
    },
    {
      "cell_type": "code",
      "execution_count": null,
      "metadata": {},
      "outputs": [],
      "source": [
        "using Pkg\n",
        "Pkg.activate(\"../\")\n",
        "using GraphSEIR\n",
        "using MetaGraphs\n",
        "using Graphs\n",
        "using Random"
      ]
    },
    {
      "cell_type": "code",
      "execution_count": null,
      "metadata": {},
      "outputs": [],
      "source": [
        "graph_dir = \"../simulation_example/\"\n",
        "node_file = \"node_attributes.json\"\n",
        "edge_file = \"edge_attributes.json\"\n",
        "g = load_graph(graph_dir*node_file, graph_dir*edge_file)"
      ]
    },
    {
      "cell_type": "code",
      "execution_count": null,
      "metadata": {},
      "outputs": [],
      "source": [
        "#Custom Initialization function: Initialize input nodes as exposed\n",
        "function expose_nodes(g, v, nodes)\n",
        "    if v in nodes\n",
        "        return [0,1,0,0] #return [0,0,1,0] to initialize as infected\n",
        "    else\n",
        "        return [1,0,0,0]\n",
        "    end\n",
        "end"
      ]
    },
    {
      "cell_type": "code",
      "execution_count": null,
      "metadata": {},
      "outputs": [],
      "source": [
        "#Initialize with specified nodes\n",
        "rng = MersenneTwister(1)\n",
        "initial_exposed = [1,2,3]\n",
        "inf_tree = initialize_with!(g, (g,v) -> expose_nodes(g, v, initial_exposed), rng)"
      ]
    },
    {
      "cell_type": "code",
      "execution_count": null,
      "metadata": {},
      "outputs": [],
      "source": [
        "#Initialize a fixed number from a given community\n",
        "rng = MersenneTwister(1)\n",
        "init_num = 10\n",
        "community = 1\n",
        "comm_vertices = collect(filter_vertices(g, (g,v) -> get_prop(g, v, :community) == community))\n",
        "initial_exposed = shuffle(rng, comm_vertices)[1:init_num]\n",
        "inf_tree = initialize_with!(g, (g,v) -> expose_nodes(g,v, initial_exposed), rng)"
      ]
    },
    {
      "cell_type": "code",
      "execution_count": null,
      "metadata": {},
      "outputs": [],
      "source": []
    }
  ],
  "metadata": {
    "kernelspec": {
      "display_name": "Julia 1.7.3",
      "language": "julia",
      "name": "julia-1.7"
    },
    "language_info": {
      "file_extension": ".jl",
      "mimetype": "application/julia",
      "name": "julia",
      "version": "1.5.2"
    }
  },
  "nbformat": 4,
  "nbformat_minor": 4
}
